{
  "nbformat": 4,
  "nbformat_minor": 0,
  "metadata": {
    "colab": {
      "provenance": [],
      "authorship_tag": "ABX9TyMjw6cdikJSz/ily/hyEHbO",
      "include_colab_link": true
    },
    "kernelspec": {
      "name": "python3",
      "display_name": "Python 3"
    },
    "language_info": {
      "name": "python"
    }
  },
  "cells": [
    {
      "cell_type": "markdown",
      "metadata": {
        "id": "view-in-github",
        "colab_type": "text"
      },
      "source": [
        "<a href=\"https://colab.research.google.com/github/venkatagollapalli28-netizen/codsoft-/blob/main/MOVIE_RATING__PREDICTION_WITH_PYTHON.ipynb\" target=\"_parent\"><img src=\"https://colab.research.google.com/assets/colab-badge.svg\" alt=\"Open In Colab\"/></a>"
      ]
    },
    {
      "cell_type": "code",
      "execution_count": null,
      "metadata": {
        "colab": {
          "base_uri": "https://localhost:8080/"
        },
        "id": "lqxUKXjadB4i",
        "outputId": "bea3f535-936c-4364-9510-d79c1a252aca"
      },
      "outputs": [
        {
          "output_type": "stream",
          "name": "stdout",
          "text": [
            "Ridge Results: {'MAE': 0.7470268901419725, 'MSE': 0.8017622322475052, 'RMSE': np.float64(0.8954117668690228), 'R2': -11.828195715960083}\n",
            "RandomForest Results: {'MAE': 1.3000000000000003, 'MSE': 1.7924000000000007, 'RMSE': np.float64(1.3388054376943652), 'R2': -27.67840000000001}\n",
            "\n",
            "Best model: Ridge\n",
            "Predicted rating for new movie: 6.81440971285326\n"
          ]
        }
      ],
      "source": [
        "import pandas as pd\n",
        "import numpy as np\n",
        "from sklearn.feature_extraction.text import TfidfVectorizer\n",
        "from sklearn.model_selection import train_test_split\n",
        "from sklearn.linear_model import Ridge\n",
        "from sklearn.ensemble import RandomForestRegressor\n",
        "from sklearn.metrics import mean_absolute_error, mean_squared_error, r2_score\n",
        "import joblib\n",
        "from scipy.sparse import hstack\n",
        "\n",
        "# 1. Create a mock dataset\n",
        "data = {\n",
        "    'Title': ['Movie A', 'Movie B', 'Movie C', 'Movie D', 'Movie E'],\n",
        "    'Year': [2000, 2005, 2010, 2015, 2020],\n",
        "    'Duration': [120, 90, 150, 110, 140],\n",
        "    'Genre': ['Action, Adventure', 'Drama', 'Comedy, Romance', 'Action', 'Drama, Thriller'],\n",
        "    'Director': ['Director 1', 'Director 2', 'Director 3', 'Director 1', 'Director 4'],\n",
        "    'Actor1': ['Actor A', 'Actor B', 'Actor C', 'Actor A', 'Actor D'],\n",
        "    'Actor2': ['Actor E', 'Actor F', 'Actor G', 'Actor H', 'Actor I'],\n",
        "    'Rating': [7.5, 8.0, 6.5, 7.0, 8.5],\n",
        "    'Votes': [150000, 80000, 120000, 50000, 200000]\n",
        "}\n",
        "df = pd.DataFrame(data)\n",
        "\n",
        "# 2. Preprocessing\n",
        "df['Actors_Combined'] = df['Actor1'] + ', ' + df['Actor2']\n",
        "\n",
        "# 3. TF-IDF transformations\n",
        "tfidf_genre = TfidfVectorizer()\n",
        "X_genre = tfidf_genre.fit_transform(df['Genre'])\n",
        "\n",
        "tfidf_director = TfidfVectorizer()\n",
        "X_director = tfidf_director.fit_transform(df['Director'])\n",
        "\n",
        "tfidf_actors = TfidfVectorizer()\n",
        "X_actors = tfidf_actors.fit_transform(df['Actors_Combined'])\n",
        "\n",
        "# 4. Numeric features\n",
        "X_numeric = df[['Year', 'Duration', 'Votes']].values\n",
        "y = df['Rating'].values\n",
        "\n",
        "# 5. Combine features\n",
        "X = hstack([X_genre, X_director, X_actors, X_numeric])\n",
        "\n",
        "# 6. Split data\n",
        "X_train, X_test, y_train, y_test = train_test_split(X, y, test_size=0.4, random_state=42)\n",
        "\n",
        "# 7. Model training\n",
        "models = {\n",
        "    'Ridge': Ridge(),\n",
        "    'RandomForest': RandomForestRegressor(n_estimators=50, random_state=42)\n",
        "}\n",
        "results = {}\n",
        "for name, model in models.items():\n",
        "    model.fit(X_train, y_train)\n",
        "    preds = model.predict(X_test)\n",
        "    results[name] = {\n",
        "        'MAE': mean_absolute_error(y_test, preds),\n",
        "        'MSE': mean_squared_error(y_test, preds),\n",
        "        'RMSE': np.sqrt(mean_squared_error(y_test, preds)),\n",
        "        'R2': r2_score(y_test, preds)\n",
        "    }\n",
        "\n",
        "# 8. Output results\n",
        "for name, metrics in results.items():\n",
        "    print(f\"{name} Results: {metrics}\")\n",
        "\n",
        "best_name = min(results, key=lambda k: results[k]['RMSE'])\n",
        "best_model = models[best_name]\n",
        "print(f\"\\nBest model: {best_name}\")\n",
        "\n",
        "# 9. Save model and vectorizers\n",
        "joblib.dump(best_model, 'best_model_demo.joblib')\n",
        "joblib.dump({'genre': tfidf_genre, 'director': tfidf_director, 'actors': tfidf_actors}, 'vectorizers_demo.joblib')\n",
        "\n",
        "# 10. Predict function\n",
        "def predict_rating(movie_dict):\n",
        "    vecs = joblib.load('vectorizers_demo.joblib')\n",
        "    model = joblib.load('best_model_demo.joblib')\n",
        "    g = vecs['genre'].transform([movie_dict['Genre']])\n",
        "    d = vecs['director'].transform([movie_dict['Director']])\n",
        "    a = vecs['actors'].transform([movie_dict['Actors_Combined']])\n",
        "    num = np.array([[movie_dict['Year'], movie_dict['Duration'], movie_dict['Votes']]])\n",
        "    features = hstack([g, d, a, num])\n",
        "    return model.predict(features)[0]\n",
        "\n",
        "# 11. Example prediction\n",
        "new_movie = {\n",
        "    'Genre': 'Action, Sci-Fi',\n",
        "    'Director': 'Director 5',\n",
        "    'Actors_Combined': 'Actor X, Actor Y',\n",
        "    'Year': 2022,\n",
        "    'Duration': 130,\n",
        "    'Votes': 100000\n",
        "}\n",
        "print(\"Predicted rating for new movie:\", predict_rating(new_movie))\n"
      ]
    }
  ]
}